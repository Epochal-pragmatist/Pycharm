{
 "cells": [
  {
   "cell_type": "code",
   "execution_count": 3,
   "outputs": [],
   "source": [
    "import tkinter\n",
    "import tkinter.ttk\n",
    "import tkinter.messagebox\n",
    "\n",
    "\n",
    "class Application(tkinter.ttk.Frame):\n",
    "    def __init__(self, master=None):\n",
    "        super().__init__(master)\n",
    "        self.btnShow = None\n",
    "        self.btnHello = None\n",
    "        self.pack()\n",
    "        self.create_widgets()\n",
    "        self.master.title(\"Test\")\n",
    "        self.master.resizable(False, False)\n",
    "\n",
    "    def create_widgets(self):\n",
    "        self.btnHello = tkinter.ttk.Button(self, text=\"Приветствовать\\nпользователя\")\n",
    "        self.btnHello.bind(\"<ButtonRelease>\", self.say_hello)\n",
    "        self.btnHello.pack()\n",
    "\n",
    "        self.btnShow = tkinter.ttk.Button(self)\n",
    "        self.btnShow[\"text\"] = \"Выход\"\n",
    "        self.btnShow[\"command\"] = root.destroy\n",
    "        self.btnShow.pack(side=\"bottom\")\n",
    "\n",
    "    def say_hello(self, evt):\n",
    "        tkinter.messagebox.showinfo(\"Test\", \"Привет, пользователь!\")\n",
    "\n",
    "root = tkinter.Tk()\n",
    "app = Application(master=root)\n",
    "root.mainloop()"
   ],
   "metadata": {
    "collapsed": false
   }
  },
  {
   "cell_type": "code",
   "execution_count": null,
   "outputs": [],
   "source": [],
   "metadata": {
    "collapsed": false
   }
  }
 ],
 "metadata": {
  "kernelspec": {
   "display_name": "Python 3",
   "language": "python",
   "name": "python3"
  },
  "language_info": {
   "codemirror_mode": {
    "name": "ipython",
    "version": 2
   },
   "file_extension": ".py",
   "mimetype": "text/x-python",
   "name": "python",
   "nbconvert_exporter": "python",
   "pygments_lexer": "ipython2",
   "version": "2.7.6"
  }
 },
 "nbformat": 4,
 "nbformat_minor": 0
}
